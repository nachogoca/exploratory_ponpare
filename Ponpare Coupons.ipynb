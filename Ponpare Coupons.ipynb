{
 "cells": [
  {
   "cell_type": "markdown",
   "metadata": {},
   "source": [
    "# __[Ponpare](https://ponpare.jp/)__ coupons dataset exploration\n",
    "\n",
    "Analysis of transactional data for 22873 users of the coupon japanese site Ponpare.\n",
    "Dataset can be found on [Kaggle](https://www.kaggle.com/c/coupon-purchase-prediction/data)\n",
    "Translated coupon list data was obtained [here](https://www.kaggle.com/tobycheese/translate-capsule-text-and-genre-name/output)\n",
    "\n",
    "By [nachogoca](https://github.com/nachogoca)"
   ]
  },
  {
   "cell_type": "code",
   "execution_count": 3,
   "metadata": {
    "collapsed": true
   },
   "outputs": [],
   "source": [
    "import pandas as pd\n",
    "\n",
    "user_list = pd.read_csv('../data/user_list.csv')\n",
    "coupon_visit = pd.read_csv('../data/coupon_visit_train.csv')"
   ]
  },
  {
   "cell_type": "markdown",
   "metadata": {},
   "source": [
    "A glimpse of the transactional data"
   ]
  },
  {
   "cell_type": "code",
   "execution_count": 4,
   "metadata": {
    "scrolled": true
   },
   "outputs": [
    {
     "data": {
      "text/html": [
       "<div>\n",
       "<style>\n",
       "    .dataframe thead tr:only-child th {\n",
       "        text-align: right;\n",
       "    }\n",
       "\n",
       "    .dataframe thead th {\n",
       "        text-align: left;\n",
       "    }\n",
       "\n",
       "    .dataframe tbody tr th {\n",
       "        vertical-align: top;\n",
       "    }\n",
       "</style>\n",
       "<table border=\"1\" class=\"dataframe\">\n",
       "  <thead>\n",
       "    <tr style=\"text-align: right;\">\n",
       "      <th></th>\n",
       "      <th>PURCHASE_FLG</th>\n",
       "      <th>I_DATE</th>\n",
       "      <th>PAGE_SERIAL</th>\n",
       "      <th>REFERRER_hash</th>\n",
       "      <th>VIEW_COUPON_ID_hash</th>\n",
       "      <th>USER_ID_hash</th>\n",
       "      <th>SESSION_ID_hash</th>\n",
       "      <th>PURCHASEID_hash</th>\n",
       "    </tr>\n",
       "  </thead>\n",
       "  <tbody>\n",
       "    <tr>\n",
       "      <th>0</th>\n",
       "      <td>0</td>\n",
       "      <td>2012-03-28 14:15:00</td>\n",
       "      <td>7</td>\n",
       "      <td>7d3892e54acb559ae36c459978489330</td>\n",
       "      <td>34c48f84026e08355dc3bd19b427f09a</td>\n",
       "      <td>d9dca3cb44bab12ba313eaa681f663eb</td>\n",
       "      <td>673af822615593249e7c6a9a1a6bbb1a</td>\n",
       "      <td>NaN</td>\n",
       "    </tr>\n",
       "    <tr>\n",
       "      <th>1</th>\n",
       "      <td>0</td>\n",
       "      <td>2012-03-28 14:17:28</td>\n",
       "      <td>9</td>\n",
       "      <td>7d3892e54acb559ae36c459978489330</td>\n",
       "      <td>34c48f84026e08355dc3bd19b427f09a</td>\n",
       "      <td>d9dca3cb44bab12ba313eaa681f663eb</td>\n",
       "      <td>673af822615593249e7c6a9a1a6bbb1a</td>\n",
       "      <td>NaN</td>\n",
       "    </tr>\n",
       "    <tr>\n",
       "      <th>2</th>\n",
       "      <td>0</td>\n",
       "      <td>2012-03-28 14:20:05</td>\n",
       "      <td>16</td>\n",
       "      <td>7d3892e54acb559ae36c459978489330</td>\n",
       "      <td>17c450c3b470c045d35ec22b02daa690</td>\n",
       "      <td>d9dca3cb44bab12ba313eaa681f663eb</td>\n",
       "      <td>673af822615593249e7c6a9a1a6bbb1a</td>\n",
       "      <td>NaN</td>\n",
       "    </tr>\n",
       "    <tr>\n",
       "      <th>3</th>\n",
       "      <td>0</td>\n",
       "      <td>2012-03-28 14:23:16</td>\n",
       "      <td>18</td>\n",
       "      <td>7d3892e54acb559ae36c459978489330</td>\n",
       "      <td>91a15e6a95d09e5e01b50747833b317d</td>\n",
       "      <td>d9dca3cb44bab12ba313eaa681f663eb</td>\n",
       "      <td>673af822615593249e7c6a9a1a6bbb1a</td>\n",
       "      <td>NaN</td>\n",
       "    </tr>\n",
       "    <tr>\n",
       "      <th>4</th>\n",
       "      <td>0</td>\n",
       "      <td>2012-03-28 14:26:25</td>\n",
       "      <td>20</td>\n",
       "      <td>7d3892e54acb559ae36c459978489330</td>\n",
       "      <td>96fcbc8f6e45d5a2de1661eb140c6e82</td>\n",
       "      <td>d9dca3cb44bab12ba313eaa681f663eb</td>\n",
       "      <td>673af822615593249e7c6a9a1a6bbb1a</td>\n",
       "      <td>NaN</td>\n",
       "    </tr>\n",
       "  </tbody>\n",
       "</table>\n",
       "</div>"
      ],
      "text/plain": [
       "   PURCHASE_FLG               I_DATE  PAGE_SERIAL  \\\n",
       "0             0  2012-03-28 14:15:00            7   \n",
       "1             0  2012-03-28 14:17:28            9   \n",
       "2             0  2012-03-28 14:20:05           16   \n",
       "3             0  2012-03-28 14:23:16           18   \n",
       "4             0  2012-03-28 14:26:25           20   \n",
       "\n",
       "                      REFERRER_hash               VIEW_COUPON_ID_hash  \\\n",
       "0  7d3892e54acb559ae36c459978489330  34c48f84026e08355dc3bd19b427f09a   \n",
       "1  7d3892e54acb559ae36c459978489330  34c48f84026e08355dc3bd19b427f09a   \n",
       "2  7d3892e54acb559ae36c459978489330  17c450c3b470c045d35ec22b02daa690   \n",
       "3  7d3892e54acb559ae36c459978489330  91a15e6a95d09e5e01b50747833b317d   \n",
       "4  7d3892e54acb559ae36c459978489330  96fcbc8f6e45d5a2de1661eb140c6e82   \n",
       "\n",
       "                       USER_ID_hash                   SESSION_ID_hash  \\\n",
       "0  d9dca3cb44bab12ba313eaa681f663eb  673af822615593249e7c6a9a1a6bbb1a   \n",
       "1  d9dca3cb44bab12ba313eaa681f663eb  673af822615593249e7c6a9a1a6bbb1a   \n",
       "2  d9dca3cb44bab12ba313eaa681f663eb  673af822615593249e7c6a9a1a6bbb1a   \n",
       "3  d9dca3cb44bab12ba313eaa681f663eb  673af822615593249e7c6a9a1a6bbb1a   \n",
       "4  d9dca3cb44bab12ba313eaa681f663eb  673af822615593249e7c6a9a1a6bbb1a   \n",
       "\n",
       "  PURCHASEID_hash  \n",
       "0             NaN  \n",
       "1             NaN  \n",
       "2             NaN  \n",
       "3             NaN  \n",
       "4             NaN  "
      ]
     },
     "execution_count": 4,
     "metadata": {},
     "output_type": "execute_result"
    }
   ],
   "source": [
    "coupon_visit.head()"
   ]
  },
  {
   "cell_type": "markdown",
   "metadata": {},
   "source": [
    "## How many coupons are seen in a session?"
   ]
  },
  {
   "cell_type": "code",
   "execution_count": 5,
   "metadata": {
    "collapsed": true
   },
   "outputs": [],
   "source": [
    "unique_sessions = coupon_visit.SESSION_ID_hash.unique()"
   ]
  },
  {
   "cell_type": "code",
   "execution_count": 6,
   "metadata": {
    "collapsed": true
   },
   "outputs": [],
   "source": [
    "items_seen_session = coupon_visit.groupby(\"SESSION_ID_hash\").count()"
   ]
  },
  {
   "cell_type": "code",
   "execution_count": 7,
   "metadata": {
    "collapsed": true
   },
   "outputs": [],
   "source": [
    "items_seen_session = items_seen_session.loc[:,['PURCHASE_FLG']]\n",
    "items_seen_session.columns = [\"seen_count\"]"
   ]
  },
  {
   "cell_type": "code",
   "execution_count": 8,
   "metadata": {
    "scrolled": true
   },
   "outputs": [
    {
     "data": {
      "text/html": [
       "<div>\n",
       "<style>\n",
       "    .dataframe thead tr:only-child th {\n",
       "        text-align: right;\n",
       "    }\n",
       "\n",
       "    .dataframe thead th {\n",
       "        text-align: left;\n",
       "    }\n",
       "\n",
       "    .dataframe tbody tr th {\n",
       "        vertical-align: top;\n",
       "    }\n",
       "</style>\n",
       "<table border=\"1\" class=\"dataframe\">\n",
       "  <thead>\n",
       "    <tr style=\"text-align: right;\">\n",
       "      <th></th>\n",
       "      <th>seen_count</th>\n",
       "    </tr>\n",
       "  </thead>\n",
       "  <tbody>\n",
       "    <tr>\n",
       "      <th>count</th>\n",
       "      <td>1.046179e+06</td>\n",
       "    </tr>\n",
       "    <tr>\n",
       "      <th>mean</th>\n",
       "      <td>2.708122e+00</td>\n",
       "    </tr>\n",
       "    <tr>\n",
       "      <th>std</th>\n",
       "      <td>2.900859e+00</td>\n",
       "    </tr>\n",
       "    <tr>\n",
       "      <th>min</th>\n",
       "      <td>1.000000e+00</td>\n",
       "    </tr>\n",
       "    <tr>\n",
       "      <th>25%</th>\n",
       "      <td>1.000000e+00</td>\n",
       "    </tr>\n",
       "    <tr>\n",
       "      <th>50%</th>\n",
       "      <td>2.000000e+00</td>\n",
       "    </tr>\n",
       "    <tr>\n",
       "      <th>75%</th>\n",
       "      <td>3.000000e+00</td>\n",
       "    </tr>\n",
       "    <tr>\n",
       "      <th>max</th>\n",
       "      <td>1.590000e+02</td>\n",
       "    </tr>\n",
       "  </tbody>\n",
       "</table>\n",
       "</div>"
      ],
      "text/plain": [
       "         seen_count\n",
       "count  1.046179e+06\n",
       "mean   2.708122e+00\n",
       "std    2.900859e+00\n",
       "min    1.000000e+00\n",
       "25%    1.000000e+00\n",
       "50%    2.000000e+00\n",
       "75%    3.000000e+00\n",
       "max    1.590000e+02"
      ]
     },
     "execution_count": 8,
     "metadata": {},
     "output_type": "execute_result"
    }
   ],
   "source": [
    "items_seen_session.describe()"
   ]
  },
  {
   "cell_type": "markdown",
   "metadata": {},
   "source": [
    "### What is the distribution?"
   ]
  },
  {
   "cell_type": "code",
   "execution_count": 32,
   "metadata": {},
   "outputs": [
    {
     "name": "stdout",
     "output_type": "stream",
     "text": [
      "seen_count\n",
      "1     461445\n",
      "2     228061\n",
      "3     124757\n",
      "4      74769\n",
      "5      47088\n",
      "6      31063\n",
      "7      21017\n",
      "8      14808\n",
      "9      10470\n",
      "10      7612\n",
      "dtype: int64\n"
     ]
    }
   ],
   "source": [
    "import matplotlib.pyplot as plt\n",
    "%matplotlib inline\n",
    "seen_dist = items_seen_session.groupby('seen_count').size()\n",
    "print(seen_dist.head(10))"
   ]
  },
  {
   "cell_type": "code",
   "execution_count": 38,
   "metadata": {},
   "outputs": [
    {
     "data": {
      "image/png": "[encoded data removed]",
      "text/plain": [
       "<matplotlib.figure.Figure at 0x7f520704d358>"
      ]
     },
     "metadata": {},
     "output_type": "display_data"
    }
   ],
   "source": [
    "plt.plot(seen_dist.index, seen_dist.values)\n",
    "plt.xlim((0,20))\n",
    "plt.show()"
   ]
  },
  {
   "cell_type": "markdown",
   "metadata": {},
   "source": [
    "En una sesión típicamente se ven pocas páginas antes de cerrarse."
   ]
  },
  {
   "cell_type": "markdown",
   "metadata": {},
   "source": [
    "## Sessions where items are bought"
   ]
  },
  {
   "cell_type": "code",
   "execution_count": 10,
   "metadata": {
    "collapsed": true
   },
   "outputs": [],
   "source": [
    "items_bought_session = coupon_visit.groupby(\"SESSION_ID_hash\").sum()['PURCHASE_FLG']\n",
    "items_bought_session = items_bought_session[ items_bought_session > 0]"
   ]
  },
  {
   "cell_type": "code",
   "execution_count": 11,
   "metadata": {
    "collapsed": true
   },
   "outputs": [],
   "source": [
    "items_bought_seen_count = items_seen_session['seen_count'][items_bought_session].sort_values(ascending = False)"
   ]
  },
  {
   "cell_type": "code",
   "execution_count": 12,
   "metadata": {},
   "outputs": [
    {
     "data": {
      "text/plain": [
       "count    99032.000000\n",
       "mean         4.448794\n",
       "std          8.394998\n",
       "min          1.000000\n",
       "25%          1.000000\n",
       "50%          1.000000\n",
       "75%          1.000000\n",
       "max         26.000000\n",
       "Name: seen_count, dtype: float64"
      ]
     },
     "execution_count": 12,
     "metadata": {},
     "output_type": "execute_result"
    }
   ],
   "source": [
    "items_bought_seen_count.describe()"
   ]
  },
  {
   "cell_type": "code",
   "execution_count": 13,
   "metadata": {},
   "outputs": [
    {
     "data": {
      "text/plain": [
       "seen_count\n",
       "1     82226\n",
       "2       914\n",
       "3       318\n",
       "4         1\n",
       "5         2\n",
       "7        29\n",
       "8      2708\n",
       "26    12834\n",
       "Name: seen_count, dtype: int64"
      ]
     },
     "execution_count": 13,
     "metadata": {},
     "output_type": "execute_result"
    }
   ],
   "source": [
    "bought_count = items_bought_seen_count.groupby(items_bought_seen_count).size()\n",
    "bought_count"
   ]
  },
  {
   "cell_type": "code",
   "execution_count": 62,
   "metadata": {},
   "outputs": [
    {
     "data": {
      "image/png": "[encoded data removed]",
      "text/plain": [
       "<matplotlib.figure.Figure at 0x7f5204209b00>"
      ]
     },
     "metadata": {},
     "output_type": "display_data"
    }
   ],
   "source": [
    "bought_count_plot =  pd.DataFrame(bought_count)\n",
    "plt.scatter(bought_count_plot.index.values, bought_count_plot.values)\n",
    "plt.show()"
   ]
  },
  {
   "cell_type": "markdown",
   "metadata": {},
   "source": [
    "## Let's add user and coupon information"
   ]
  },
  {
   "cell_type": "markdown",
   "metadata": {},
   "source": [
    "My purpose is to see if there is a correlation between gender, age and coupon genre and price"
   ]
  },
  {
   "cell_type": "markdown",
   "metadata": {},
   "source": [
    "### Users"
   ]
  },
  {
   "cell_type": "code",
   "execution_count": 15,
   "metadata": {
    "collapsed": true
   },
   "outputs": [],
   "source": [
    "users = pd.read_csv('../data/user_list.csv')"
   ]
  },
  {
   "cell_type": "code",
   "execution_count": 86,
   "metadata": {
    "scrolled": true
   },
   "outputs": [
    {
     "data": {
      "text/html": [
       "<div>\n",
       "<style>\n",
       "    .dataframe thead tr:only-child th {\n",
       "        text-align: right;\n",
       "    }\n",
       "\n",
       "    .dataframe thead th {\n",
       "        text-align: left;\n",
       "    }\n",
       "\n",
       "    .dataframe tbody tr th {\n",
       "        vertical-align: top;\n",
       "    }\n",
       "</style>\n",
       "<table border=\"1\" class=\"dataframe\">\n",
       "  <thead>\n",
       "    <tr style=\"text-align: right;\">\n",
       "      <th></th>\n",
       "      <th>REG_DATE</th>\n",
       "      <th>SEX_ID</th>\n",
       "      <th>AGE</th>\n",
       "      <th>WITHDRAW_DATE</th>\n",
       "      <th>PREF_NAME</th>\n",
       "      <th>USER_ID_hash</th>\n",
       "    </tr>\n",
       "  </thead>\n",
       "  <tbody>\n",
       "    <tr>\n",
       "      <th>0</th>\n",
       "      <td>2012-03-28 14:14:18</td>\n",
       "      <td>f</td>\n",
       "      <td>25</td>\n",
       "      <td>NaN</td>\n",
       "      <td>NaN</td>\n",
       "      <td>d9dca3cb44bab12ba313eaa681f663eb</td>\n",
       "    </tr>\n",
       "    <tr>\n",
       "      <th>1</th>\n",
       "      <td>2011-05-18 00:41:48</td>\n",
       "      <td>f</td>\n",
       "      <td>34</td>\n",
       "      <td>NaN</td>\n",
       "      <td>東京都</td>\n",
       "      <td>560574a339f1b25e57b0221e486907ed</td>\n",
       "    </tr>\n",
       "    <tr>\n",
       "      <th>2</th>\n",
       "      <td>2011-06-13 16:36:58</td>\n",
       "      <td>m</td>\n",
       "      <td>41</td>\n",
       "      <td>NaN</td>\n",
       "      <td>愛知県</td>\n",
       "      <td>e66ae91b978b3229f8fd858c80615b73</td>\n",
       "    </tr>\n",
       "    <tr>\n",
       "      <th>3</th>\n",
       "      <td>2012-02-08 12:56:15</td>\n",
       "      <td>m</td>\n",
       "      <td>25</td>\n",
       "      <td>NaN</td>\n",
       "      <td>NaN</td>\n",
       "      <td>43fc18f32eafb05713ec02935e2c2825</td>\n",
       "    </tr>\n",
       "    <tr>\n",
       "      <th>4</th>\n",
       "      <td>2011-05-22 23:43:56</td>\n",
       "      <td>m</td>\n",
       "      <td>62</td>\n",
       "      <td>NaN</td>\n",
       "      <td>神奈川県</td>\n",
       "      <td>dc6df8aa860f8db0d710ce9d4839840f</td>\n",
       "    </tr>\n",
       "  </tbody>\n",
       "</table>\n",
       "</div>"
      ],
      "text/plain": [
       "              REG_DATE SEX_ID  AGE WITHDRAW_DATE PREF_NAME  \\\n",
       "0  2012-03-28 14:14:18      f   25           NaN       NaN   \n",
       "1  2011-05-18 00:41:48      f   34           NaN       東京都   \n",
       "2  2011-06-13 16:36:58      m   41           NaN       愛知県   \n",
       "3  2012-02-08 12:56:15      m   25           NaN       NaN   \n",
       "4  2011-05-22 23:43:56      m   62           NaN      神奈川県   \n",
       "\n",
       "                       USER_ID_hash  \n",
       "0  d9dca3cb44bab12ba313eaa681f663eb  \n",
       "1  560574a339f1b25e57b0221e486907ed  \n",
       "2  e66ae91b978b3229f8fd858c80615b73  \n",
       "3  43fc18f32eafb05713ec02935e2c2825  \n",
       "4  dc6df8aa860f8db0d710ce9d4839840f  "
      ]
     },
     "execution_count": 86,
     "metadata": {},
     "output_type": "execute_result"
    }
   ],
   "source": [
    "users.head()"
   ]
  },
  {
   "cell_type": "code",
   "execution_count": 88,
   "metadata": {
    "collapsed": true
   },
   "outputs": [],
   "source": [
    "# I only care about sex and age of users\n",
    "users.drop(['REG_DATE', 'WITHDRAW_DATE', 'PREF_NAME'], axis=1, inplace=True)"
   ]
  },
  {
   "cell_type": "code",
   "execution_count": 95,
   "metadata": {
    "scrolled": true
   },
   "outputs": [
    {
     "data": {
      "text/plain": [
       "(22873, 3)"
      ]
     },
     "execution_count": 95,
     "metadata": {},
     "output_type": "execute_result"
    }
   ],
   "source": [
    "users.shape"
   ]
  },
  {
   "cell_type": "markdown",
   "metadata": {
    "collapsed": true
   },
   "source": [
    "## What is the age and gender of my users?"
   ]
  },
  {
   "cell_type": "code",
   "execution_count": 98,
   "metadata": {},
   "outputs": [
    {
     "data": {
      "text/plain": [
       "count    22873.000000\n",
       "mean        42.497836\n",
       "std         11.843465\n",
       "min         15.000000\n",
       "25%         33.000000\n",
       "50%         41.000000\n",
       "75%         51.000000\n",
       "max         80.000000\n",
       "Name: AGE, dtype: float64"
      ]
     },
     "execution_count": 98,
     "metadata": {},
     "output_type": "execute_result"
    }
   ],
   "source": [
    "users['AGE'].describe()"
   ]
  },
  {
   "cell_type": "code",
   "execution_count": 104,
   "metadata": {
    "scrolled": false
   },
   "outputs": [
    {
     "data": {
      "text/plain": [
       "<matplotlib.axes._subplots.AxesSubplot at 0x7f52001ecc88>"
      ]
     },
     "execution_count": 104,
     "metadata": {},
     "output_type": "execute_result"
    },
    {
     "data": {
      "image/png": "[encoded data removed]",
      "text/plain": [
       "<matplotlib.figure.Figure at 0x7f51fb375860>"
      ]
     },
     "metadata": {},
     "output_type": "display_data"
    }
   ],
   "source": [
    "users['AGE'].hist(bins=15)"
   ]
  },
  {
   "cell_type": "markdown",
   "metadata": {},
   "source": [
    "A lot of people with more than 40 years use the site."
   ]
  },
  {
   "cell_type": "code",
   "execution_count": 116,
   "metadata": {},
   "outputs": [],
   "source": [
    "user_genders = users.groupby('SEX_ID')['USER_ID_hash'].count()"
   ]
  },
  {
   "cell_type": "code",
   "execution_count": 124,
   "metadata": {},
   "outputs": [
    {
     "data": {
      "text/html": [
       "<div>\n",
       "<style>\n",
       "    .dataframe thead tr:only-child th {\n",
       "        text-align: right;\n",
       "    }\n",
       "\n",
       "    .dataframe thead th {\n",
       "        text-align: left;\n",
       "    }\n",
       "\n",
       "    .dataframe tbody tr th {\n",
       "        vertical-align: top;\n",
       "    }\n",
       "</style>\n",
       "<table border=\"1\" class=\"dataframe\">\n",
       "  <thead>\n",
       "    <tr style=\"text-align: right;\">\n",
       "      <th></th>\n",
       "      <th>USER_ID_hash</th>\n",
       "    </tr>\n",
       "    <tr>\n",
       "      <th>SEX_ID</th>\n",
       "      <th></th>\n",
       "    </tr>\n",
       "  </thead>\n",
       "  <tbody>\n",
       "    <tr>\n",
       "      <th>f</th>\n",
       "      <td>10983</td>\n",
       "    </tr>\n",
       "    <tr>\n",
       "      <th>m</th>\n",
       "      <td>11890</td>\n",
       "    </tr>\n",
       "  </tbody>\n",
       "</table>\n",
       "</div>"
      ],
      "text/plain": [
       "        USER_ID_hash\n",
       "SEX_ID              \n",
       "f              10983\n",
       "m              11890"
      ]
     },
     "execution_count": 124,
     "metadata": {},
     "output_type": "execute_result"
    }
   ],
   "source": [
    "pd.DataFrame(user_genders)"
   ]
  },
  {
   "cell_type": "markdown",
   "metadata": {},
   "source": [
    "The 48% of Ponpare's users are women; 52%, men."
   ]
  },
  {
   "cell_type": "code",
   "execution_count": 126,
   "metadata": {
    "collapsed": true
   },
   "outputs": [],
   "source": [
    "coupon_visit_with_users = pd.merge(left=coupon_visit, right=users, left_on='USER_ID_hash', right_on='USER_ID_hash')"
   ]
  },
  {
   "cell_type": "markdown",
   "metadata": {
    "collapsed": true
   },
   "source": [
    "## What are the most common  offered coupons' genre?"
   ]
  },
  {
   "cell_type": "code",
   "execution_count": 73,
   "metadata": {},
   "outputs": [],
   "source": [
    "# Get coupon data\n",
    "coupons = pd.read_csv('../data/coupon_list_train_translated.csv')"
   ]
  },
  {
   "cell_type": "code",
   "execution_count": 127,
   "metadata": {
    "scrolled": false
   },
   "outputs": [
    {
     "data": {
      "text/html": [
       "<div>\n",
       "<style>\n",
       "    .dataframe thead tr:only-child th {\n",
       "        text-align: right;\n",
       "    }\n",
       "\n",
       "    .dataframe thead th {\n",
       "        text-align: left;\n",
       "    }\n",
       "\n",
       "    .dataframe tbody tr th {\n",
       "        vertical-align: top;\n",
       "    }\n",
       "</style>\n",
       "<table border=\"1\" class=\"dataframe\">\n",
       "  <thead>\n",
       "    <tr style=\"text-align: right;\">\n",
       "      <th></th>\n",
       "      <th>CAPSULE_TEXT</th>\n",
       "      <th>GENRE_NAME</th>\n",
       "      <th>PRICE_RATE</th>\n",
       "      <th>CATALOG_PRICE</th>\n",
       "      <th>DISCOUNT_PRICE</th>\n",
       "      <th>DISPFROM</th>\n",
       "      <th>DISPEND</th>\n",
       "      <th>DISPPERIOD</th>\n",
       "      <th>VALIDFROM</th>\n",
       "      <th>VALIDEND</th>\n",
       "      <th>...</th>\n",
       "      <th>USABLE_DATE_THU</th>\n",
       "      <th>USABLE_DATE_FRI</th>\n",
       "      <th>USABLE_DATE_SAT</th>\n",
       "      <th>USABLE_DATE_SUN</th>\n",
       "      <th>USABLE_DATE_HOLIDAY</th>\n",
       "      <th>USABLE_DATE_BEFORE_HOLIDAY</th>\n",
       "      <th>large_area_name</th>\n",
       "      <th>ken_name</th>\n",
       "      <th>small_area_name</th>\n",
       "      <th>COUPON_ID_hash</th>\n",
       "    </tr>\n",
       "  </thead>\n",
       "  <tbody>\n",
       "    <tr>\n",
       "      <th>0</th>\n",
       "      <td>Food</td>\n",
       "      <td>Food</td>\n",
       "      <td>50</td>\n",
       "      <td>3000</td>\n",
       "      <td>1500</td>\n",
       "      <td>2011-07-08 12:00:00</td>\n",
       "      <td>2011-07-09 12:00:00</td>\n",
       "      <td>1</td>\n",
       "      <td>2011-07-10</td>\n",
       "      <td>2011-12-08</td>\n",
       "      <td>...</td>\n",
       "      <td>1.0</td>\n",
       "      <td>0.0</td>\n",
       "      <td>0.0</td>\n",
       "      <td>1.0</td>\n",
       "      <td>1.0</td>\n",
       "      <td>0.0</td>\n",
       "      <td>??</td>\n",
       "      <td>???</td>\n",
       "      <td>??</td>\n",
       "      <td>6b263844241eea98c5a97f1335ea82af</td>\n",
       "    </tr>\n",
       "    <tr>\n",
       "      <th>1</th>\n",
       "      <td>Food</td>\n",
       "      <td>Food</td>\n",
       "      <td>51</td>\n",
       "      <td>2080</td>\n",
       "      <td>1000</td>\n",
       "      <td>2011-07-01 12:00:00</td>\n",
       "      <td>2011-07-02 12:00:00</td>\n",
       "      <td>1</td>\n",
       "      <td>2011-07-03</td>\n",
       "      <td>2011-12-04</td>\n",
       "      <td>...</td>\n",
       "      <td>1.0</td>\n",
       "      <td>1.0</td>\n",
       "      <td>1.0</td>\n",
       "      <td>1.0</td>\n",
       "      <td>1.0</td>\n",
       "      <td>1.0</td>\n",
       "      <td>??</td>\n",
       "      <td>???</td>\n",
       "      <td>??</td>\n",
       "      <td>cc031f250e8bad1e24060263b9fc0ddd</td>\n",
       "    </tr>\n",
       "    <tr>\n",
       "      <th>2</th>\n",
       "      <td>Food</td>\n",
       "      <td>Food</td>\n",
       "      <td>50</td>\n",
       "      <td>7000</td>\n",
       "      <td>3500</td>\n",
       "      <td>2011-07-12 12:00:00</td>\n",
       "      <td>2011-07-15 12:00:00</td>\n",
       "      <td>3</td>\n",
       "      <td>2011-07-16</td>\n",
       "      <td>2012-01-11</td>\n",
       "      <td>...</td>\n",
       "      <td>1.0</td>\n",
       "      <td>1.0</td>\n",
       "      <td>1.0</td>\n",
       "      <td>1.0</td>\n",
       "      <td>1.0</td>\n",
       "      <td>1.0</td>\n",
       "      <td>??</td>\n",
       "      <td>???</td>\n",
       "      <td>??</td>\n",
       "      <td>ba5e9b7453ca52ff711635a5d2e8102d</td>\n",
       "    </tr>\n",
       "    <tr>\n",
       "      <th>3</th>\n",
       "      <td>Food</td>\n",
       "      <td>Food</td>\n",
       "      <td>50</td>\n",
       "      <td>3000</td>\n",
       "      <td>1500</td>\n",
       "      <td>2011-07-09 12:00:00</td>\n",
       "      <td>2011-07-11 12:00:00</td>\n",
       "      <td>2</td>\n",
       "      <td>2011-07-12</td>\n",
       "      <td>2011-12-01</td>\n",
       "      <td>...</td>\n",
       "      <td>1.0</td>\n",
       "      <td>0.0</td>\n",
       "      <td>0.0</td>\n",
       "      <td>1.0</td>\n",
       "      <td>1.0</td>\n",
       "      <td>1.0</td>\n",
       "      <td>??</td>\n",
       "      <td>???</td>\n",
       "      <td>??</td>\n",
       "      <td>3e1ffbedca3569f9e8032d401e8cb4e6</td>\n",
       "    </tr>\n",
       "    <tr>\n",
       "      <th>4</th>\n",
       "      <td>Food</td>\n",
       "      <td>Food</td>\n",
       "      <td>50</td>\n",
       "      <td>2000</td>\n",
       "      <td>1000</td>\n",
       "      <td>2011-07-05 12:00:00</td>\n",
       "      <td>2011-07-06 12:00:00</td>\n",
       "      <td>1</td>\n",
       "      <td>2011-07-07</td>\n",
       "      <td>2011-12-30</td>\n",
       "      <td>...</td>\n",
       "      <td>1.0</td>\n",
       "      <td>0.0</td>\n",
       "      <td>0.0</td>\n",
       "      <td>1.0</td>\n",
       "      <td>1.0</td>\n",
       "      <td>0.0</td>\n",
       "      <td>??</td>\n",
       "      <td>???</td>\n",
       "      <td>??</td>\n",
       "      <td>782934b6c815b4030ea204eef7d4a734</td>\n",
       "    </tr>\n",
       "  </tbody>\n",
       "</table>\n",
       "<p>5 rows × 24 columns</p>\n",
       "</div>"
      ],
      "text/plain": [
       "  CAPSULE_TEXT GENRE_NAME  PRICE_RATE  CATALOG_PRICE  DISCOUNT_PRICE  \\\n",
       "0         Food       Food          50           3000            1500   \n",
       "1         Food       Food          51           2080            1000   \n",
       "2         Food       Food          50           7000            3500   \n",
       "3         Food       Food          50           3000            1500   \n",
       "4         Food       Food          50           2000            1000   \n",
       "\n",
       "              DISPFROM              DISPEND  DISPPERIOD   VALIDFROM  \\\n",
       "0  2011-07-08 12:00:00  2011-07-09 12:00:00           1  2011-07-10   \n",
       "1  2011-07-01 12:00:00  2011-07-02 12:00:00           1  2011-07-03   \n",
       "2  2011-07-12 12:00:00  2011-07-15 12:00:00           3  2011-07-16   \n",
       "3  2011-07-09 12:00:00  2011-07-11 12:00:00           2  2011-07-12   \n",
       "4  2011-07-05 12:00:00  2011-07-06 12:00:00           1  2011-07-07   \n",
       "\n",
       "     VALIDEND                ...                 USABLE_DATE_THU  \\\n",
       "0  2011-12-08                ...                             1.0   \n",
       "1  2011-12-04                ...                             1.0   \n",
       "2  2012-01-11                ...                             1.0   \n",
       "3  2011-12-01                ...                             1.0   \n",
       "4  2011-12-30                ...                             1.0   \n",
       "\n",
       "   USABLE_DATE_FRI  USABLE_DATE_SAT  USABLE_DATE_SUN  USABLE_DATE_HOLIDAY  \\\n",
       "0              0.0              0.0              1.0                  1.0   \n",
       "1              1.0              1.0              1.0                  1.0   \n",
       "2              1.0              1.0              1.0                  1.0   \n",
       "3              0.0              0.0              1.0                  1.0   \n",
       "4              0.0              0.0              1.0                  1.0   \n",
       "\n",
       "   USABLE_DATE_BEFORE_HOLIDAY  large_area_name  ken_name  small_area_name  \\\n",
       "0                         0.0               ??       ???               ??   \n",
       "1                         1.0               ??       ???               ??   \n",
       "2                         1.0               ??       ???               ??   \n",
       "3                         1.0               ??       ???               ??   \n",
       "4                         0.0               ??       ???               ??   \n",
       "\n",
       "                     COUPON_ID_hash  \n",
       "0  6b263844241eea98c5a97f1335ea82af  \n",
       "1  cc031f250e8bad1e24060263b9fc0ddd  \n",
       "2  ba5e9b7453ca52ff711635a5d2e8102d  \n",
       "3  3e1ffbedca3569f9e8032d401e8cb4e6  \n",
       "4  782934b6c815b4030ea204eef7d4a734  \n",
       "\n",
       "[5 rows x 24 columns]"
      ]
     },
     "execution_count": 127,
     "metadata": {},
     "output_type": "execute_result"
    }
   ],
   "source": [
    "coupons.head()"
   ]
  },
  {
   "cell_type": "code",
   "execution_count": 132,
   "metadata": {},
   "outputs": [],
   "source": [
    "# Delete columns I won't use\n",
    "coupons.drop(['DISPFROM', 'DISPEND','DISPPERIOD','VALIDFROM','VALIDEND','VALIDPERIOD','USABLE_DATE_MON','USABLE_DATE_TUE','USABLE_DATE_WED','USABLE_DATE_THU','USABLE_DATE_FRI','USABLE_DATE_SAT','USABLE_DATE_SUN','USABLE_DATE_HOLIDAY','USABLE_DATE_BEFORE_HOLIDAY','large_area_name','ken_name','small_area_name'], axis=1, inplace=True)"
   ]
  },
  {
   "cell_type": "code",
   "execution_count": 178,
   "metadata": {},
   "outputs": [
    {
     "data": {
      "image/png": "[encoded data removed]",
      "text/plain": [
       "<matplotlib.figure.Figure at 0x7f520cc24668>"
      ]
     },
     "metadata": {},
     "output_type": "display_data"
    }
   ],
   "source": [
    "# Offered coupons\n",
    "coupons_by_genre = pd.DataFrame(coupons.groupby('GENRE_NAME').count()['COUPON_ID_hash'])\n",
    "coupons_by_genre.columns = ['Count']\n",
    "coupons_by_genre.sort_values(['Count'], ascending=False, inplace=True)\n",
    "coupons_by_genre.plot(kind='bar')\n",
    "plt.title(\"Offered coupons\")\n",
    "plt.show()"
   ]
  },
  {
   "cell_type": "markdown",
   "metadata": {},
   "source": [
    "### Let's join the information about users and coupons with the logs"
   ]
  },
  {
   "cell_type": "code",
   "execution_count": 134,
   "metadata": {
    "scrolled": true
   },
   "outputs": [],
   "source": [
    "# Merge with coupons\n",
    "coupon_total = pd.merge(left=coupon_visit_with_users, right=coupons, left_on='VIEW_COUPON_ID_hash', right_on='COUPON_ID_hash')"
   ]
  },
  {
   "cell_type": "code",
   "execution_count": 140,
   "metadata": {},
   "outputs": [],
   "source": [
    "coupon_total.drop(['PAGE_SERIAL','PURCHASEID_hash','COUPON_ID_hash'], axis=1, inplace=True)"
   ]
  },
  {
   "cell_type": "code",
   "execution_count": 142,
   "metadata": {},
   "outputs": [
    {
     "data": {
      "text/html": [
       "<div>\n",
       "<style>\n",
       "    .dataframe thead tr:only-child th {\n",
       "        text-align: right;\n",
       "    }\n",
       "\n",
       "    .dataframe thead th {\n",
       "        text-align: left;\n",
       "    }\n",
       "\n",
       "    .dataframe tbody tr th {\n",
       "        vertical-align: top;\n",
       "    }\n",
       "</style>\n",
       "<table border=\"1\" class=\"dataframe\">\n",
       "  <thead>\n",
       "    <tr style=\"text-align: right;\">\n",
       "      <th></th>\n",
       "      <th>PURCHASE_FLG</th>\n",
       "      <th>I_DATE</th>\n",
       "      <th>REFERRER_hash</th>\n",
       "      <th>VIEW_COUPON_ID_hash</th>\n",
       "      <th>USER_ID_hash</th>\n",
       "      <th>SESSION_ID_hash</th>\n",
       "      <th>SEX_ID</th>\n",
       "      <th>AGE</th>\n",
       "      <th>CAPSULE_TEXT</th>\n",
       "      <th>GENRE_NAME</th>\n",
       "      <th>PRICE_RATE</th>\n",
       "      <th>CATALOG_PRICE</th>\n",
       "      <th>DISCOUNT_PRICE</th>\n",
       "    </tr>\n",
       "  </thead>\n",
       "  <tbody>\n",
       "    <tr>\n",
       "      <th>0</th>\n",
       "      <td>0</td>\n",
       "      <td>2012-03-28 14:15:00</td>\n",
       "      <td>7d3892e54acb559ae36c459978489330</td>\n",
       "      <td>34c48f84026e08355dc3bd19b427f09a</td>\n",
       "      <td>d9dca3cb44bab12ba313eaa681f663eb</td>\n",
       "      <td>673af822615593249e7c6a9a1a6bbb1a</td>\n",
       "      <td>f</td>\n",
       "      <td>25</td>\n",
       "      <td>Delivery service</td>\n",
       "      <td>Delivery service</td>\n",
       "      <td>78</td>\n",
       "      <td>7200</td>\n",
       "      <td>1575</td>\n",
       "    </tr>\n",
       "    <tr>\n",
       "      <th>1</th>\n",
       "      <td>0</td>\n",
       "      <td>2012-03-28 14:17:28</td>\n",
       "      <td>7d3892e54acb559ae36c459978489330</td>\n",
       "      <td>34c48f84026e08355dc3bd19b427f09a</td>\n",
       "      <td>d9dca3cb44bab12ba313eaa681f663eb</td>\n",
       "      <td>673af822615593249e7c6a9a1a6bbb1a</td>\n",
       "      <td>f</td>\n",
       "      <td>25</td>\n",
       "      <td>Delivery service</td>\n",
       "      <td>Delivery service</td>\n",
       "      <td>78</td>\n",
       "      <td>7200</td>\n",
       "      <td>1575</td>\n",
       "    </tr>\n",
       "    <tr>\n",
       "      <th>2</th>\n",
       "      <td>0</td>\n",
       "      <td>2012-03-28 14:32:02</td>\n",
       "      <td>7d3892e54acb559ae36c459978489330</td>\n",
       "      <td>34c48f84026e08355dc3bd19b427f09a</td>\n",
       "      <td>d9dca3cb44bab12ba313eaa681f663eb</td>\n",
       "      <td>673af822615593249e7c6a9a1a6bbb1a</td>\n",
       "      <td>f</td>\n",
       "      <td>25</td>\n",
       "      <td>Delivery service</td>\n",
       "      <td>Delivery service</td>\n",
       "      <td>78</td>\n",
       "      <td>7200</td>\n",
       "      <td>1575</td>\n",
       "    </tr>\n",
       "    <tr>\n",
       "      <th>3</th>\n",
       "      <td>1</td>\n",
       "      <td>2012-03-28 15:06:11</td>\n",
       "      <td>878034ded0ee2297d7ce27c5169e8584</td>\n",
       "      <td>34c48f84026e08355dc3bd19b427f09a</td>\n",
       "      <td>d9dca3cb44bab12ba313eaa681f663eb</td>\n",
       "      <td>673af822615593249e7c6a9a1a6bbb1a</td>\n",
       "      <td>f</td>\n",
       "      <td>25</td>\n",
       "      <td>Delivery service</td>\n",
       "      <td>Delivery service</td>\n",
       "      <td>78</td>\n",
       "      <td>7200</td>\n",
       "      <td>1575</td>\n",
       "    </tr>\n",
       "    <tr>\n",
       "      <th>4</th>\n",
       "      <td>0</td>\n",
       "      <td>2012-03-28 15:08:10</td>\n",
       "      <td>7d3892e54acb559ae36c459978489330</td>\n",
       "      <td>34c48f84026e08355dc3bd19b427f09a</td>\n",
       "      <td>d9dca3cb44bab12ba313eaa681f663eb</td>\n",
       "      <td>673af822615593249e7c6a9a1a6bbb1a</td>\n",
       "      <td>f</td>\n",
       "      <td>25</td>\n",
       "      <td>Delivery service</td>\n",
       "      <td>Delivery service</td>\n",
       "      <td>78</td>\n",
       "      <td>7200</td>\n",
       "      <td>1575</td>\n",
       "    </tr>\n",
       "  </tbody>\n",
       "</table>\n",
       "</div>"
      ],
      "text/plain": [
       "   PURCHASE_FLG               I_DATE                     REFERRER_hash  \\\n",
       "0             0  2012-03-28 14:15:00  7d3892e54acb559ae36c459978489330   \n",
       "1             0  2012-03-28 14:17:28  7d3892e54acb559ae36c459978489330   \n",
       "2             0  2012-03-28 14:32:02  7d3892e54acb559ae36c459978489330   \n",
       "3             1  2012-03-28 15:06:11  878034ded0ee2297d7ce27c5169e8584   \n",
       "4             0  2012-03-28 15:08:10  7d3892e54acb559ae36c459978489330   \n",
       "\n",
       "                VIEW_COUPON_ID_hash                      USER_ID_hash  \\\n",
       "0  34c48f84026e08355dc3bd19b427f09a  d9dca3cb44bab12ba313eaa681f663eb   \n",
       "1  34c48f84026e08355dc3bd19b427f09a  d9dca3cb44bab12ba313eaa681f663eb   \n",
       "2  34c48f84026e08355dc3bd19b427f09a  d9dca3cb44bab12ba313eaa681f663eb   \n",
       "3  34c48f84026e08355dc3bd19b427f09a  d9dca3cb44bab12ba313eaa681f663eb   \n",
       "4  34c48f84026e08355dc3bd19b427f09a  d9dca3cb44bab12ba313eaa681f663eb   \n",
       "\n",
       "                    SESSION_ID_hash SEX_ID  AGE      CAPSULE_TEXT  \\\n",
       "0  673af822615593249e7c6a9a1a6bbb1a      f   25  Delivery service   \n",
       "1  673af822615593249e7c6a9a1a6bbb1a      f   25  Delivery service   \n",
       "2  673af822615593249e7c6a9a1a6bbb1a      f   25  Delivery service   \n",
       "3  673af822615593249e7c6a9a1a6bbb1a      f   25  Delivery service   \n",
       "4  673af822615593249e7c6a9a1a6bbb1a      f   25  Delivery service   \n",
       "\n",
       "         GENRE_NAME  PRICE_RATE  CATALOG_PRICE  DISCOUNT_PRICE  \n",
       "0  Delivery service          78           7200            1575  \n",
       "1  Delivery service          78           7200            1575  \n",
       "2  Delivery service          78           7200            1575  \n",
       "3  Delivery service          78           7200            1575  \n",
       "4  Delivery service          78           7200            1575  "
      ]
     },
     "execution_count": 142,
     "metadata": {},
     "output_type": "execute_result"
    }
   ],
   "source": [
    "coupon_total.head()"
   ]
  },
  {
   "cell_type": "code",
   "execution_count": null,
   "metadata": {
    "collapsed": true
   },
   "outputs": [],
   "source": []
  }
 ],
 "metadata": {
  "kernelspec": {
   "display_name": "Python 3",
   "language": "python",
   "name": "python3"
  },
  "language_info": {
   "codemirror_mode": {
    "name": "ipython",
    "version": 3
   },
   "file_extension": ".py",
   "mimetype": "text/x-python",
   "name": "python",
   "nbconvert_exporter": "python",
   "pygments_lexer": "ipython3",
   "version": "3.6.1"
  }
 },
 "nbformat": 4,
 "nbformat_minor": 2
}
