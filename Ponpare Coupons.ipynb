{
 "cells": [
  {
   "cell_type": "markdown",
   "metadata": {},
   "source": [
    "# __[Ponpare](https://ponpare.jp/)__ coupons dataset exploration\n",
    "\n",
    "Analysis of transactional data for 22873 users of the coupon japanese site Ponpare.\n",
    "Dataset can be found on [Kaggle](https://www.kaggle.com/c/coupon-purchase-prediction/data)\n",
    "\n",
    "By [nachogoca](https://github.com/nachogoca)"
   ]
  },
  {
   "cell_type": "code",
   "execution_count": 9,
   "metadata": {
    "collapsed": true
   },
   "outputs": [],
   "source": [
    "import pandas as pd\n",
    "\n",
    "user_list = pd.read_csv('../data/user_list.csv')\n",
    "coupon_visit = pd.read_csv('../data/coupon_visit_train.csv')"
   ]
  },
  {
   "cell_type": "markdown",
   "metadata": {},
   "source": [
    "A glimpse of the transactional data"
   ]
  },
  {
   "cell_type": "code",
   "execution_count": 10,
   "metadata": {
    "scrolled": true
   },
   "outputs": [
    {
     "data": {
      "text/html": [
       "<div>\n",
       "<style>\n",
       "    .dataframe thead tr:only-child th {\n",
       "        text-align: right;\n",
       "    }\n",
       "\n",
       "    .dataframe thead th {\n",
       "        text-align: left;\n",
       "    }\n",
       "\n",
       "    .dataframe tbody tr th {\n",
       "        vertical-align: top;\n",
       "    }\n",
       "</style>\n",
       "<table border=\"1\" class=\"dataframe\">\n",
       "  <thead>\n",
       "    <tr style=\"text-align: right;\">\n",
       "      <th></th>\n",
       "      <th>PURCHASE_FLG</th>\n",
       "      <th>I_DATE</th>\n",
       "      <th>PAGE_SERIAL</th>\n",
       "      <th>REFERRER_hash</th>\n",
       "      <th>VIEW_COUPON_ID_hash</th>\n",
       "      <th>USER_ID_hash</th>\n",
       "      <th>SESSION_ID_hash</th>\n",
       "      <th>PURCHASEID_hash</th>\n",
       "    </tr>\n",
       "  </thead>\n",
       "  <tbody>\n",
       "    <tr>\n",
       "      <th>0</th>\n",
       "      <td>0</td>\n",
       "      <td>2012-03-28 14:15:00</td>\n",
       "      <td>7</td>\n",
       "      <td>7d3892e54acb559ae36c459978489330</td>\n",
       "      <td>34c48f84026e08355dc3bd19b427f09a</td>\n",
       "      <td>d9dca3cb44bab12ba313eaa681f663eb</td>\n",
       "      <td>673af822615593249e7c6a9a1a6bbb1a</td>\n",
       "      <td>NaN</td>\n",
       "    </tr>\n",
       "    <tr>\n",
       "      <th>1</th>\n",
       "      <td>0</td>\n",
       "      <td>2012-03-28 14:17:28</td>\n",
       "      <td>9</td>\n",
       "      <td>7d3892e54acb559ae36c459978489330</td>\n",
       "      <td>34c48f84026e08355dc3bd19b427f09a</td>\n",
       "      <td>d9dca3cb44bab12ba313eaa681f663eb</td>\n",
       "      <td>673af822615593249e7c6a9a1a6bbb1a</td>\n",
       "      <td>NaN</td>\n",
       "    </tr>\n",
       "    <tr>\n",
       "      <th>2</th>\n",
       "      <td>0</td>\n",
       "      <td>2012-03-28 14:20:05</td>\n",
       "      <td>16</td>\n",
       "      <td>7d3892e54acb559ae36c459978489330</td>\n",
       "      <td>17c450c3b470c045d35ec22b02daa690</td>\n",
       "      <td>d9dca3cb44bab12ba313eaa681f663eb</td>\n",
       "      <td>673af822615593249e7c6a9a1a6bbb1a</td>\n",
       "      <td>NaN</td>\n",
       "    </tr>\n",
       "    <tr>\n",
       "      <th>3</th>\n",
       "      <td>0</td>\n",
       "      <td>2012-03-28 14:23:16</td>\n",
       "      <td>18</td>\n",
       "      <td>7d3892e54acb559ae36c459978489330</td>\n",
       "      <td>91a15e6a95d09e5e01b50747833b317d</td>\n",
       "      <td>d9dca3cb44bab12ba313eaa681f663eb</td>\n",
       "      <td>673af822615593249e7c6a9a1a6bbb1a</td>\n",
       "      <td>NaN</td>\n",
       "    </tr>\n",
       "    <tr>\n",
       "      <th>4</th>\n",
       "      <td>0</td>\n",
       "      <td>2012-03-28 14:26:25</td>\n",
       "      <td>20</td>\n",
       "      <td>7d3892e54acb559ae36c459978489330</td>\n",
       "      <td>96fcbc8f6e45d5a2de1661eb140c6e82</td>\n",
       "      <td>d9dca3cb44bab12ba313eaa681f663eb</td>\n",
       "      <td>673af822615593249e7c6a9a1a6bbb1a</td>\n",
       "      <td>NaN</td>\n",
       "    </tr>\n",
       "  </tbody>\n",
       "</table>\n",
       "</div>"
      ],
      "text/plain": [
       "   PURCHASE_FLG               I_DATE  PAGE_SERIAL  \\\n",
       "0             0  2012-03-28 14:15:00            7   \n",
       "1             0  2012-03-28 14:17:28            9   \n",
       "2             0  2012-03-28 14:20:05           16   \n",
       "3             0  2012-03-28 14:23:16           18   \n",
       "4             0  2012-03-28 14:26:25           20   \n",
       "\n",
       "                      REFERRER_hash               VIEW_COUPON_ID_hash  \\\n",
       "0  7d3892e54acb559ae36c459978489330  34c48f84026e08355dc3bd19b427f09a   \n",
       "1  7d3892e54acb559ae36c459978489330  34c48f84026e08355dc3bd19b427f09a   \n",
       "2  7d3892e54acb559ae36c459978489330  17c450c3b470c045d35ec22b02daa690   \n",
       "3  7d3892e54acb559ae36c459978489330  91a15e6a95d09e5e01b50747833b317d   \n",
       "4  7d3892e54acb559ae36c459978489330  96fcbc8f6e45d5a2de1661eb140c6e82   \n",
       "\n",
       "                       USER_ID_hash                   SESSION_ID_hash  \\\n",
       "0  d9dca3cb44bab12ba313eaa681f663eb  673af822615593249e7c6a9a1a6bbb1a   \n",
       "1  d9dca3cb44bab12ba313eaa681f663eb  673af822615593249e7c6a9a1a6bbb1a   \n",
       "2  d9dca3cb44bab12ba313eaa681f663eb  673af822615593249e7c6a9a1a6bbb1a   \n",
       "3  d9dca3cb44bab12ba313eaa681f663eb  673af822615593249e7c6a9a1a6bbb1a   \n",
       "4  d9dca3cb44bab12ba313eaa681f663eb  673af822615593249e7c6a9a1a6bbb1a   \n",
       "\n",
       "  PURCHASEID_hash  \n",
       "0             NaN  \n",
       "1             NaN  \n",
       "2             NaN  \n",
       "3             NaN  \n",
       "4             NaN  "
      ]
     },
     "execution_count": 10,
     "metadata": {},
     "output_type": "execute_result"
    }
   ],
   "source": [
    "coupon_visit.head()"
   ]
  },
  {
   "cell_type": "markdown",
   "metadata": {},
   "source": [
    "## How many coupons are seen in a session?"
   ]
  },
  {
   "cell_type": "code",
   "execution_count": 22,
   "metadata": {
    "collapsed": true
   },
   "outputs": [],
   "source": [
    "unique_sessions = coupon_visit.SESSION_ID_hash.unique()"
   ]
  },
  {
   "cell_type": "code",
   "execution_count": 23,
   "metadata": {
    "collapsed": true
   },
   "outputs": [],
   "source": [
    "items_seen_session = coupon_visit.groupby(\"SESSION_ID_hash\").count()"
   ]
  },
  {
   "cell_type": "code",
   "execution_count": 24,
   "metadata": {
    "collapsed": true
   },
   "outputs": [],
   "source": [
    "items_seen_session = items_seen_session.loc[:,['PURCHASE_FLG']]\n",
    "items_seen_session.columns = [\"seen_count\"]"
   ]
  },
  {
   "cell_type": "code",
   "execution_count": 25,
   "metadata": {
    "scrolled": true
   },
   "outputs": [
    {
     "data": {
      "text/html": [
       "<div>\n",
       "<style>\n",
       "    .dataframe thead tr:only-child th {\n",
       "        text-align: right;\n",
       "    }\n",
       "\n",
       "    .dataframe thead th {\n",
       "        text-align: left;\n",
       "    }\n",
       "\n",
       "    .dataframe tbody tr th {\n",
       "        vertical-align: top;\n",
       "    }\n",
       "</style>\n",
       "<table border=\"1\" class=\"dataframe\">\n",
       "  <thead>\n",
       "    <tr style=\"text-align: right;\">\n",
       "      <th></th>\n",
       "      <th>seen_count</th>\n",
       "    </tr>\n",
       "  </thead>\n",
       "  <tbody>\n",
       "    <tr>\n",
       "      <th>count</th>\n",
       "      <td>1.046179e+06</td>\n",
       "    </tr>\n",
       "    <tr>\n",
       "      <th>mean</th>\n",
       "      <td>2.708122e+00</td>\n",
       "    </tr>\n",
       "    <tr>\n",
       "      <th>std</th>\n",
       "      <td>2.900859e+00</td>\n",
       "    </tr>\n",
       "    <tr>\n",
       "      <th>min</th>\n",
       "      <td>1.000000e+00</td>\n",
       "    </tr>\n",
       "    <tr>\n",
       "      <th>25%</th>\n",
       "      <td>1.000000e+00</td>\n",
       "    </tr>\n",
       "    <tr>\n",
       "      <th>50%</th>\n",
       "      <td>2.000000e+00</td>\n",
       "    </tr>\n",
       "    <tr>\n",
       "      <th>75%</th>\n",
       "      <td>3.000000e+00</td>\n",
       "    </tr>\n",
       "    <tr>\n",
       "      <th>max</th>\n",
       "      <td>1.590000e+02</td>\n",
       "    </tr>\n",
       "  </tbody>\n",
       "</table>\n",
       "</div>"
      ],
      "text/plain": [
       "         seen_count\n",
       "count  1.046179e+06\n",
       "mean   2.708122e+00\n",
       "std    2.900859e+00\n",
       "min    1.000000e+00\n",
       "25%    1.000000e+00\n",
       "50%    2.000000e+00\n",
       "75%    3.000000e+00\n",
       "max    1.590000e+02"
      ]
     },
     "execution_count": 25,
     "metadata": {},
     "output_type": "execute_result"
    }
   ],
   "source": [
    "items_seen_session.describe()"
   ]
  },
  {
   "cell_type": "markdown",
   "metadata": {},
   "source": [
    "### What is the distribution?"
   ]
  },
  {
   "cell_type": "code",
   "execution_count": 40,
   "metadata": {},
   "outputs": [
    {
     "name": "stdout",
     "output_type": "stream",
     "text": [
      "seen_count\n",
      "1     461445\n",
      "2     228061\n",
      "3     124757\n",
      "4      74769\n",
      "5      47088\n",
      "6      31063\n",
      "7      21017\n",
      "8      14808\n",
      "9      10470\n",
      "10      7612\n",
      "dtype: int64\n",
      "seen_count\n",
      "101    1\n",
      "122    1\n",
      "133    1\n",
      "150    1\n",
      "159    1\n",
      "dtype: int64\n"
     ]
    },
    {
     "data": {
      "text/plain": [
       "[<matplotlib.lines.Line2D at 0x7f3705189358>]"
      ]
     },
     "execution_count": 40,
     "metadata": {},
     "output_type": "execute_result"
    },
    {
     "data": {
      "image/png": "[encoded data removed]",
      "text/plain": [
       "<matplotlib.figure.Figure at 0x7f372251bef0>"
      ]
     },
     "metadata": {},
     "output_type": "display_data"
    }
   ],
   "source": [
    "import matplotlib.pyplot as plt\n",
    "%matplotlib inline\n",
    "seen_dist = items_seen_session.groupby('seen_count').size()\n",
    "print(seen_dist.head(10))\n",
    "print(seen_dist.tail())\n",
    "plt.plot(seen_dist.index, seen_dist.values)"
   ]
  },
  {
   "cell_type": "code",
   "execution_count": 17,
   "metadata": {},
   "outputs": [],
   "source": [
    "items_bought_session = coupon_visit.groupby(\"SESSION_ID_hash\").sum()['PURCHASE_FLG']\n",
    "items_bought_session = items_bought_session[ items_bought_session > 0]"
   ]
  },
  {
   "cell_type": "code",
   "execution_count": 37,
   "metadata": {},
   "outputs": [],
   "source": [
    "items_bought_seen_count = items_seen_session['seen_count'][items_bought_session].sort_values(ascending = False)"
   ]
  },
  {
   "cell_type": "code",
   "execution_count": 38,
   "metadata": {},
   "outputs": [
    {
     "data": {
      "text/plain": [
       "count    99032.000000\n",
       "mean         4.448794\n",
       "std          8.394998\n",
       "min          1.000000\n",
       "25%          1.000000\n",
       "50%          1.000000\n",
       "75%          1.000000\n",
       "max         26.000000\n",
       "Name: seen_count, dtype: float64"
      ]
     },
     "execution_count": 38,
     "metadata": {},
     "output_type": "execute_result"
    }
   ],
   "source": [
    "items_bought_seen_count.describe()"
   ]
  },
  {
   "cell_type": "code",
   "execution_count": 55,
   "metadata": {},
   "outputs": [
    {
     "data": {
      "text/plain": [
       "seen_count\n",
       "1     82226\n",
       "2       914\n",
       "3       318\n",
       "4         1\n",
       "5         2\n",
       "7        29\n",
       "8      2708\n",
       "26    12834\n",
       "Name: seen_count, dtype: int64"
      ]
     },
     "execution_count": 55,
     "metadata": {},
     "output_type": "execute_result"
    }
   ],
   "source": [
    "bought_count = items_bought_seen_count.groupby(items_bought_seen_count).size()\n",
    "bought_count"
   ]
  },
  {
   "cell_type": "code",
   "execution_count": 56,
   "metadata": {},
   "outputs": [
    {
     "data": {
      "text/plain": [
       "<matplotlib.axes._subplots.AxesSubplot at 0x7f370502a9b0>"
      ]
     },
     "execution_count": 56,
     "metadata": {},
     "output_type": "execute_result"
    },
    {
     "data": {
      "image/png": "[encoded data removed]",
      "text/plain": [
       "<matplotlib.figure.Figure at 0x7f3704fb0ba8>"
      ]
     },
     "metadata": {},
     "output_type": "display_data"
    }
   ],
   "source": [
    "bought_count.plot()"
   ]
  }
 ],
 "metadata": {
  "kernelspec": {
   "display_name": "Python 3",
   "language": "python",
   "name": "python3"
  },
  "language_info": {
   "codemirror_mode": {
    "name": "ipython",
    "version": 3
   },
   "file_extension": ".py",
   "mimetype": "text/x-python",
   "name": "python",
   "nbconvert_exporter": "python",
   "pygments_lexer": "ipython3",
   "version": "3.6.1"
  }
 },
 "nbformat": 4,
 "nbformat_minor": 2
}
